{
 "cells": [
  {
   "cell_type": "code",
   "execution_count": 1,
   "id": "8d6282cc-2cbf-4ac3-8385-45f63a6161e2",
   "metadata": {
    "tags": []
   },
   "outputs": [],
   "source": [
    "my_list = [\"a\", \"b\", \"c\", 1, 2, 3, 4, \"a\", \"b\", 4, \"b\", 4, 1, \"c\"]"
   ]
  },
  {
   "cell_type": "code",
   "execution_count": 2,
   "id": "2386d599-e74f-4b14-aa6d-26d31c95cc72",
   "metadata": {
    "tags": []
   },
   "outputs": [
    {
     "name": "stdout",
     "output_type": "stream",
     "text": [
      "['a', 'b', 'c', 1, 2, 3, 4, 'a', 'b', 4, 'b', 4, 1, 'c']\n"
     ]
    }
   ],
   "source": [
    "print(my_list)"
   ]
  },
  {
   "cell_type": "code",
   "execution_count": 3,
   "id": "4f409806-6b71-459d-b3fa-f1af475ddf76",
   "metadata": {
    "tags": []
   },
   "outputs": [],
   "source": [
    "from collections import Counter"
   ]
  },
  {
   "cell_type": "code",
   "execution_count": 4,
   "id": "6890aa56-5ed3-4133-8b02-1d6d4555a15d",
   "metadata": {
    "tags": []
   },
   "outputs": [],
   "source": [
    "c_counted = Counter(my_list)"
   ]
  },
  {
   "cell_type": "code",
   "execution_count": 5,
   "id": "72d0b92c-3a39-4583-a2fd-40c997cb0f0e",
   "metadata": {
    "tags": []
   },
   "outputs": [
    {
     "name": "stdout",
     "output_type": "stream",
     "text": [
      "Counter({'b': 3, 4: 3, 'a': 2, 'c': 2, 1: 2, 2: 1, 3: 1})\n"
     ]
    }
   ],
   "source": [
    "print(c_counted)"
   ]
  },
  {
   "cell_type": "code",
   "execution_count": 6,
   "id": "64b0cad6-5367-4173-ab2c-ddc54ec48d0e",
   "metadata": {
    "tags": []
   },
   "outputs": [],
   "source": [
    "c_counted = dict(c_counted)"
   ]
  },
  {
   "cell_type": "code",
   "execution_count": 7,
   "id": "48ef0e57-b075-4da1-8a61-ea2daf830ca0",
   "metadata": {
    "tags": []
   },
   "outputs": [
    {
     "name": "stdout",
     "output_type": "stream",
     "text": [
      "{'a': 2, 'b': 3, 'c': 2, 1: 2, 2: 1, 3: 1, 4: 3}\n"
     ]
    }
   ],
   "source": [
    "print(c_counted)"
   ]
  },
  {
   "cell_type": "code",
   "execution_count": 8,
   "id": "714ea898-1428-44a1-ada0-44227df3a6bb",
   "metadata": {
    "tags": []
   },
   "outputs": [
    {
     "data": {
      "text/plain": [
       "2"
      ]
     },
     "execution_count": 8,
     "metadata": {},
     "output_type": "execute_result"
    }
   ],
   "source": [
    "my_list.count(1)"
   ]
  },
  {
   "cell_type": "code",
   "execution_count": 9,
   "id": "8a596fec-e61d-464c-ad70-d08607c6e24a",
   "metadata": {
    "tags": []
   },
   "outputs": [],
   "source": [
    "n_counted = {i: my_list.count(i) for i in my_list}"
   ]
  },
  {
   "cell_type": "code",
   "execution_count": 10,
   "id": "b530a9f1-6d59-4e6e-92cd-0479568743e6",
   "metadata": {
    "tags": []
   },
   "outputs": [
    {
     "name": "stdout",
     "output_type": "stream",
     "text": [
      "{'a': 2, 'b': 3, 'c': 2, 1: 2, 2: 1, 3: 1, 4: 3}\n"
     ]
    }
   ],
   "source": [
    "print(n_counted)"
   ]
  },
  {
   "cell_type": "code",
   "execution_count": 11,
   "id": "b286d311-b039-47bf-b75a-886500422fc5",
   "metadata": {
    "tags": []
   },
   "outputs": [
    {
     "data": {
      "text/plain": [
       "True"
      ]
     },
     "execution_count": 11,
     "metadata": {},
     "output_type": "execute_result"
    }
   ],
   "source": [
    "c_counted == n_counted"
   ]
  }
 ],
 "metadata": {
  "kernelspec": {
   "display_name": "Python 3 (ipykernel)",
   "language": "python",
   "name": "python3"
  },
  "language_info": {
   "codemirror_mode": {
    "name": "ipython",
    "version": 3
   },
   "file_extension": ".py",
   "mimetype": "text/x-python",
   "name": "python",
   "nbconvert_exporter": "python",
   "pygments_lexer": "ipython3",
   "version": "3.10.6"
  }
 },
 "nbformat": 4,
 "nbformat_minor": 5
}
